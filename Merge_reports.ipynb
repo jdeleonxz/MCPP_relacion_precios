{
 "cells": [
  {
   "attachments": {},
   "cell_type": "markdown",
   "metadata": {},
   "source": [
    "# Uniendo los excels para crear una sola base de datos\n",
    "\n",
    "### Observaciones diarias de precios entre mayo 2023 y enero 2015. \n",
    "### No se tienen en cuenta festivos ni fines de semana lo cual debe ser reemplazado \n"
   ]
  },
  {
   "cell_type": "code",
   "execution_count": 85,
   "metadata": {},
   "outputs": [],
   "source": [
    "import pandas\n",
    "import numpy\n",
    "import os \n"
   ]
  },
  {
   "cell_type": "code",
   "execution_count": 86,
   "metadata": {},
   "outputs": [],
   "source": [
    "ejemplo_1 = pandas.read_excel(\"Archivos_raw/anex_abr_01_2022.xlsx\")\n",
    "x = ejemplo_1.iloc[0,0]\n",
    "z = ejemplo_1.iloc[:,0]\n",
    "y = (ejemplo_1.iloc[:,0] == \"Precio $/Kg\").idxmax()\n",
    "\n",
    "ejemplo_1 = ejemplo_1.iloc[y:]\n",
    "ejemplo_1.columns = ejemplo_1.iloc[0]\n",
    "ejemplo_1 = ejemplo_1.iloc[1:]\n",
    "\n",
    "ejemplo_1 = ejemplo_1.drop(columns=numpy.nan)\n",
    "\n",
    "ejemplo_1['Date'] = x"
   ]
  },
  {
   "cell_type": "code",
   "execution_count": 87,
   "metadata": {},
   "outputs": [],
   "source": [
    "ejemplo_1.iloc[:,0]\n",
    "valores_interes = ejemplo_1['Precio $/Kg']\n",
    "valores_interes = valores_interes[2:]\n",
    "valores_interes = valores_interes[valores_interes != 'Frutas frescas']\n",
    "valores_interes = valores_interes[valores_interes != 'Var%: Variación porcentual con respecto al promedio del día de mercado anterior de la misma plaza']\n",
    "valores_interes = valores_interes[valores_interes != '*Variedad predominante en el mercado']\n",
    "valores_interes = valores_interes[valores_interes != 'n.d. : no disponible']"
   ]
  },
  {
   "cell_type": "code",
   "execution_count": 88,
   "metadata": {},
   "outputs": [],
   "source": [
    "ejemplo_1 = ejemplo_1[ejemplo_1['Precio $/Kg'].isin(valores_interes)]"
   ]
  },
  {
   "cell_type": "code",
   "execution_count": 89,
   "metadata": {},
   "outputs": [],
   "source": [
    "directorio = \"Archivos_raw/\"\n",
    "file_path = []\n",
    "for filename in os.listdir(directorio):\n",
    "    file_path.append(os.path.join(directorio, filename))"
   ]
  },
  {
   "attachments": {},
   "cell_type": "markdown",
   "metadata": {},
   "source": [
    "### Proximamente prueba #1 de merge de los reportes en un solo dataframe"
   ]
  },
  {
   "cell_type": "code",
   "execution_count": 90,
   "metadata": {},
   "outputs": [
    {
     "name": "stdout",
     "output_type": "stream",
     "text": [
      "Archivos_raw/anex_mar_10_2022.xlsx\n",
      "Archivos_raw/mayoristas_noviembre_16_2021.xlsx\n",
      "Archivos_raw/mayoristas_noviembre_17_2021.xlsx\n",
      "Archivos_raw/mayoristas_noviembre_18_2021.xlsx\n",
      "Archivos_raw/mayoristas_noviembre_19_2021.xlsx\n",
      "Archivos_raw/mayoristas_noviembre_22_2021.xlsx\n",
      "Archivos_raw/mayoristas_noviembre_23_2021.xlsx\n",
      "Archivos_raw/mayoristas_noviembre_25_2021.xlsx\n",
      "Archivos_raw/mayoristas_noviembre_30_2021.xlsx\n"
     ]
    }
   ],
   "source": [
    "df = pandas.DataFrame()\n",
    "error = []\n",
    "for i in file_path:\n",
    "    try:\n",
    "        data = pandas.read_excel(i)\n",
    "        x = data.iloc[0,0]\n",
    "        z = data.iloc[:,0]\n",
    "        y = (data.iloc[:,0] == \"Precio $/Kg\").idxmax()\n",
    "\n",
    "        data = data.iloc[y:]\n",
    "        data.columns = data.iloc[0]\n",
    "        data = data.iloc[1:]\n",
    "\n",
    "        data = data.drop(columns=numpy.nan)\n",
    "\n",
    "        data['Date'] = x   \n",
    "        data = data[data['Precio $/Kg'].isin(valores_interes)]\n",
    "\n",
    "        df = pandas.concat([df, data])\n",
    "\n",
    "        if x == \"Miércoles 09 de 10 de 2019\":\n",
    "            error.append(i)\n",
    "\n",
    "        else:\n",
    "            continue\n",
    "\n",
    "    except:\n",
    "        print(i)\n",
    "        error.append(i)\n",
    "    "
   ]
  },
  {
   "cell_type": "code",
   "execution_count": 91,
   "metadata": {},
   "outputs": [],
   "source": [
    "fechas = df['Date'].unique()\n",
    "\n",
    "# De todos los Archivos se identifiaron 11 que tienen errores "
   ]
  },
  {
   "attachments": {},
   "cell_type": "markdown",
   "metadata": {},
   "source": [
    "#### Existen 11 archivos que presentan errores al procesarlos conjuntamente. Se revisaran 1-1"
   ]
  },
  {
   "cell_type": "code",
   "execution_count": 92,
   "metadata": {},
   "outputs": [],
   "source": [
    "data_error = pandas.read_excel(error[0])\n",
    "x = data_error.iloc[0,0]\n",
    "z = data_error.iloc[:,0]\n",
    "y = (data_error.iloc[:,0] == \"Precio $/Kg\").idxmax()\n",
    "\n",
    "data_error = data_error.iloc[y:]\n",
    "data_error.columns = data_error.iloc[0]\n",
    "data_error = data_error.iloc[1:]\n",
    "\n",
    "data_error = data_error.drop(columns=numpy.nan)\n",
    "\n",
    "data_error['Date'] = x\n",
    "\n",
    "data_error = data_error[data_error['Precio $/Kg'].isin(valores_interes)]\n",
    "\n",
    "df = df.reset_index(drop = True)\n",
    "data_error = df.reset_index(drop=True)\n",
    "\n",
    "FinalDatabase = pandas.concat([df,data_error], ignore_index=True)\n",
    "\n",
    "\n",
    "##### El 02 de octubre de 2020 se excluye por error en el reporte\n",
    "##### Por diferencias en la forma del informe se excluyen el resto de errores del archivo"
   ]
  },
  {
   "cell_type": "code",
   "execution_count": 93,
   "metadata": {},
   "outputs": [],
   "source": [
    "FinalDatabase.to_csv(\"Final_data.csv\")"
   ]
  }
 ],
 "metadata": {
  "kernelspec": {
   "display_name": "Python 3",
   "language": "python",
   "name": "python3"
  },
  "language_info": {
   "codemirror_mode": {
    "name": "ipython",
    "version": 3
   },
   "file_extension": ".py",
   "mimetype": "text/x-python",
   "name": "python",
   "nbconvert_exporter": "python",
   "pygments_lexer": "ipython3",
   "version": "3.10.4"
  },
  "orig_nbformat": 4
 },
 "nbformat": 4,
 "nbformat_minor": 2
}
