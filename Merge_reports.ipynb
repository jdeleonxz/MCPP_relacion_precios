{
 "cells": [
  {
   "attachments": {},
   "cell_type": "markdown",
   "metadata": {},
   "source": [
    "# Uniendo los excels para crear una sola base de datos\n",
    "\n",
    "### Observaciones diarias de precios entre mayo 2023 y enero 2015. \n",
    "### No se tienen en cuenta festivos ni fines de semana lo cual debe ser reemplazado \n"
   ]
  },
  {
   "cell_type": "code",
   "execution_count": 49,
   "metadata": {},
   "outputs": [],
   "source": [
    "import pandas\n",
    "import numpy\n",
    "import os \n"
   ]
  },
  {
   "cell_type": "code",
   "execution_count": 50,
   "metadata": {},
   "outputs": [],
   "source": [
    "ejemplo_1 = pandas.read_excel(\"Archivos_raw/anex_abr_01_2022.xlsx\")\n",
    "x = ejemplo_1.iloc[0,0]\n",
    "z = ejemplo_1.iloc[:,0]\n",
    "y = (ejemplo_1.iloc[:,0] == \"Precio $/Kg\").idxmax()\n",
    "\n",
    "ejemplo_1 = ejemplo_1.iloc[y:]\n",
    "ejemplo_1.columns = ejemplo_1.iloc[0]\n",
    "ejemplo_1 = ejemplo_1.iloc[1:]\n",
    "\n",
    "ejemplo_1 = ejemplo_1.drop(columns=numpy.nan)\n",
    "\n",
    "ejemplo_1['Date'] = x"
   ]
  },
  {
   "cell_type": "code",
   "execution_count": 51,
   "metadata": {},
   "outputs": [],
   "source": [
    "ejemplo_1.iloc[:,0]\n",
    "valores_interes = ejemplo_1['Precio $/Kg']\n",
    "valores_interes = valores_interes[2:]\n",
    "valores_interes = valores_interes[valores_interes != 'Frutas frescas']\n",
    "valores_interes = valores_interes[valores_interes != 'Var%: Variación porcentual con respecto al promedio del día de mercado anterior de la misma plaza']\n",
    "valores_interes = valores_interes[valores_interes != '*Variedad predominante en el mercado']\n",
    "valores_interes = valores_interes[valores_interes != 'n.d. : no disponible']"
   ]
  },
  {
   "cell_type": "code",
   "execution_count": 52,
   "metadata": {},
   "outputs": [],
   "source": [
    "ejemplo_1 = ejemplo_1[ejemplo_1['Precio $/Kg'].isin(valores_interes)]"
   ]
  },
  {
   "cell_type": "code",
   "execution_count": 53,
   "metadata": {},
   "outputs": [],
   "source": [
    "directorio = \"C:/Users/Jorge De León/Desktop/Relacion_precios/Archivos_raw\"\n",
    "file_path = []\n",
    "for filename in os.listdir(directorio):\n",
    "    file_path.append(os.path.join(directorio, filename))"
   ]
  },
  {
   "attachments": {},
   "cell_type": "markdown",
   "metadata": {},
   "source": [
    "### Proximamente prueba #1 de merge de los reportes en un solo dataframe"
   ]
  }
 ],
 "metadata": {
  "kernelspec": {
   "display_name": "Python 3",
   "language": "python",
   "name": "python3"
  },
  "language_info": {
   "codemirror_mode": {
    "name": "ipython",
    "version": 3
   },
   "file_extension": ".py",
   "mimetype": "text/x-python",
   "name": "python",
   "nbconvert_exporter": "python",
   "pygments_lexer": "ipython3",
   "version": "3.10.4"
  },
  "orig_nbformat": 4
 },
 "nbformat": 4,
 "nbformat_minor": 2
}
