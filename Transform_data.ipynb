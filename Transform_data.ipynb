{
 "cells": [
  {
   "attachments": {},
   "cell_type": "markdown",
   "metadata": {},
   "source": [
    "### Transformación de la base de datos para poderla trabajar\n"
   ]
  },
  {
   "cell_type": "code",
   "execution_count": 19,
   "metadata": {},
   "outputs": [],
   "source": [
    "import pandas as pd\n",
    "import numpy\n",
    "import locale\n",
    "from dateutil.parser import parse"
   ]
  },
  {
   "cell_type": "code",
   "execution_count": 20,
   "metadata": {},
   "outputs": [
    {
     "name": "stderr",
     "output_type": "stream",
     "text": [
      "C:\\Users\\Jorge De León\\AppData\\Local\\Temp\\ipykernel_5084\\2568158253.py:2: DtypeWarning: Columns (25,26,27,28,29,30,31,32,33,34,35,36,37,39,40,42,43,44,45,47,48) have mixed types. Specify dtype option on import or set low_memory=False.\n",
      "  datos = pandas.read_csv(\"Final_data.csv\")\n",
      "C:\\Users\\Jorge De León\\AppData\\Local\\Temp\\ipykernel_5084\\2568158253.py:13: FutureWarning: The default value of regex will change from True to False in a future version.\n",
      "  datos['Date_2'] = datos['Date'].str.replace(r'^\\w+\\s+', '')\n"
     ]
    }
   ],
   "source": [
    "# Cargamos el csv con los datos finales\n",
    "datos = pandas.read_csv(\"Final_data.csv\")\n",
    "\n",
    "datos['Date'] = datos['Date'].apply(lambda x: x.replace('abri', 'abril'))\n",
    "datos['Date'] = datos['Date'].apply(lambda x: x.replace('gosto', 'agosto'))\n",
    "datos['Date'] = datos['Date'].apply(lambda x: x.replace('dciembre', 'diciembre'))\n",
    "datos['Date'] = datos['Date'].apply(lambda x: x.replace('dicienbre', 'diciembre'))\n",
    "datos['Date'] = datos['Date'].apply(lambda x: x.replace('abrill', 'abril'))\n",
    "datos['Date'] = datos['Date'].apply(lambda x: x.replace('aagosto', 'agosto'))\n",
    "datos['Date'] = datos['Date'].apply(lambda x: x.replace('Aagosto', 'agosto'))\n",
    "\n",
    "# eliminar el día de la semana de las cadenas de fecha\n",
    "datos['Date_2'] = datos['Date'].str.replace(r'^\\w+\\s+', '')\n",
    "\n",
    "# convertir la columna de fecha en datetime\n",
    "datos['Date_2'] = pandas.to_datetime(datos['Date_2'], format='%d de %B de %Y', errors='coerce')\n",
    "\n",
    "\n",
    "fechas = datos['Date'].unique()\n",
    "\n"
   ]
  },
  {
   "cell_type": "code",
   "execution_count": 21,
   "metadata": {},
   "outputs": [
    {
     "name": "stderr",
     "output_type": "stream",
     "text": [
      "C:\\Users\\Jorge De León\\AppData\\Local\\Temp\\ipykernel_5084\\1537350283.py:6: FutureWarning: The default value of regex will change from True to False in a future version.\n",
      "  fechas['date'] = fechas[0].str.replace(r'^\\w+\\s+', '')\n"
     ]
    }
   ],
   "source": [
    "locale.setlocale(locale.LC_TIME, 'es_CO.UTF-8')\n",
    "\n",
    "#datos['Date-2'] = pandas.to_datetime(datos['Date'], format='%A %d de %B de %Y', errors='coerce')\n",
    "\n",
    "fechas = pandas.DataFrame(fechas)\n",
    "fechas['date'] = fechas[0].str.replace(r'^\\w+\\s+', '')\n",
    "\n",
    "# convertir la columna de fecha en datetime\n",
    "fechas['date'] = pandas.to_datetime(fechas['date'], format='%d de %B de %Y', errors='coerce')\n",
    "\n",
    "fechas_malas_2 = fechas.loc[fechas['date'].isna()]\n"
   ]
  },
  {
   "cell_type": "code",
   "execution_count": 22,
   "metadata": {},
   "outputs": [],
   "source": [
    "datos_finale = datos.drop(['Date'], axis=1)"
   ]
  },
  {
   "cell_type": "code",
   "execution_count": 23,
   "metadata": {},
   "outputs": [],
   "source": [
    "\n",
    "# Define the time range for the dates\n",
    "start_date = datos_finale['Date_2'].min()\n",
    "end_date = datos_finale['Date_2'].max()\n",
    "date_range = pd.date_range(start_date, end_date, freq='D')\n",
    "\n",
    "# Create a DataFrame with all unique categories in column 'A'\n",
    "categories = datos_finale['Precio $/Kg'].unique()\n",
    "categories_df = pd.DataFrame({'Precio $/Kg': categories})\n",
    "\n",
    "# Cross join the categories DataFrame with the date range\n",
    "categories_df['key'] = 1\n",
    "date_range_df = pd.DataFrame({'key': 1, 'Date_2': date_range})\n",
    "complete_df = categories_df.merge(date_range_df, on='key').drop('key', axis=1)\n",
    "\n",
    "# Merge the complete DataFrame with the original DataFrame\n",
    "df_complete = complete_df.merge(datos_finale, on=['Precio $/Kg', 'Date_2'], how='left')\n",
    "\n",
    "# Sort the DataFrame by category and date\n",
    "df_complete = df_complete.sort_values(['Precio $/Kg', 'Date_2'])\n",
    "\n",
    "# Reset the index to default\n",
    "df_complete = df_complete.reset_index(drop=True)\n",
    "\n",
    "columns_to_fill = datos_finale.columns.difference(['Precio $/Kg', 'Date_2'])\n",
    "df_complete[columns_to_fill] = df_complete.groupby('Precio $/Kg')[columns_to_fill].fillna(value=pd.NA)"
   ]
  },
  {
   "cell_type": "code",
   "execution_count": 24,
   "metadata": {},
   "outputs": [],
   "source": [
    "FINAL = df_complete\n",
    "FINAL.to_csv(\"Final_database_2.csv\")"
   ]
  }
 ],
 "metadata": {
  "kernelspec": {
   "display_name": "Python 3",
   "language": "python",
   "name": "python3"
  },
  "language_info": {
   "codemirror_mode": {
    "name": "ipython",
    "version": 3
   },
   "file_extension": ".py",
   "mimetype": "text/x-python",
   "name": "python",
   "nbconvert_exporter": "python",
   "pygments_lexer": "ipython3",
   "version": "3.10.4"
  },
  "orig_nbformat": 4
 },
 "nbformat": 4,
 "nbformat_minor": 2
}
