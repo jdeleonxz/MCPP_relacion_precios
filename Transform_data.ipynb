{
 "cells": [
  {
   "attachments": {},
   "cell_type": "markdown",
   "metadata": {},
   "source": [
    "### Transformación de la base de datos para poderla trabajar\n"
   ]
  },
  {
   "cell_type": "code",
   "execution_count": 114,
   "metadata": {},
   "outputs": [],
   "source": [
    "import pandas \n",
    "import numpy\n",
    "import locale\n",
    "from dateutil.parser import parse"
   ]
  },
  {
   "cell_type": "code",
   "execution_count": 115,
   "metadata": {},
   "outputs": [
    {
     "name": "stderr",
     "output_type": "stream",
     "text": [
      "C:\\Users\\Jorge De León\\AppData\\Local\\Temp\\ipykernel_8900\\2568158253.py:2: DtypeWarning: Columns (25,26,27,28,29,30,31,32,33,34,35,36,37,39,40,42,43,44,45,47,48) have mixed types. Specify dtype option on import or set low_memory=False.\n",
      "  datos = pandas.read_csv(\"Final_data.csv\")\n",
      "C:\\Users\\Jorge De León\\AppData\\Local\\Temp\\ipykernel_8900\\2568158253.py:13: FutureWarning: The default value of regex will change from True to False in a future version.\n",
      "  datos['Date_2'] = datos['Date'].str.replace(r'^\\w+\\s+', '')\n"
     ]
    }
   ],
   "source": [
    "# Cargamos el csv con los datos finales\n",
    "datos = pandas.read_csv(\"Final_data.csv\")\n",
    "\n",
    "datos['Date'] = datos['Date'].apply(lambda x: x.replace('abri', 'abril'))\n",
    "datos['Date'] = datos['Date'].apply(lambda x: x.replace('gosto', 'agosto'))\n",
    "datos['Date'] = datos['Date'].apply(lambda x: x.replace('dciembre', 'diciembre'))\n",
    "datos['Date'] = datos['Date'].apply(lambda x: x.replace('dicienbre', 'diciembre'))\n",
    "datos['Date'] = datos['Date'].apply(lambda x: x.replace('abrill', 'abril'))\n",
    "datos['Date'] = datos['Date'].apply(lambda x: x.replace('aagosto', 'agosto'))\n",
    "datos['Date'] = datos['Date'].apply(lambda x: x.replace('Aagosto', 'agosto'))\n",
    "\n",
    "# eliminar el día de la semana de las cadenas de fecha\n",
    "datos['Date_2'] = datos['Date'].str.replace(r'^\\w+\\s+', '')\n",
    "\n",
    "# convertir la columna de fecha en datetime\n",
    "datos['Date_2'] = pandas.to_datetime(datos['Date_2'], format='%d de %B de %Y', errors='coerce')\n",
    "\n",
    "\n",
    "fechas = datos['Date'].unique()\n",
    "\n"
   ]
  },
  {
   "cell_type": "code",
   "execution_count": 116,
   "metadata": {},
   "outputs": [
    {
     "name": "stderr",
     "output_type": "stream",
     "text": [
      "C:\\Users\\Jorge De León\\AppData\\Local\\Temp\\ipykernel_8900\\1537350283.py:6: FutureWarning: The default value of regex will change from True to False in a future version.\n",
      "  fechas['date'] = fechas[0].str.replace(r'^\\w+\\s+', '')\n"
     ]
    }
   ],
   "source": [
    "locale.setlocale(locale.LC_TIME, 'es_CO.UTF-8')\n",
    "\n",
    "#datos['Date-2'] = pandas.to_datetime(datos['Date'], format='%A %d de %B de %Y', errors='coerce')\n",
    "\n",
    "fechas = pandas.DataFrame(fechas)\n",
    "fechas['date'] = fechas[0].str.replace(r'^\\w+\\s+', '')\n",
    "\n",
    "# convertir la columna de fecha en datetime\n",
    "fechas['date'] = pandas.to_datetime(fechas['date'], format='%d de %B de %Y', errors='coerce')\n",
    "\n",
    "fechas_malas_2 = fechas.loc[fechas['date'].isna()]\n"
   ]
  },
  {
   "cell_type": "code",
   "execution_count": 117,
   "metadata": {},
   "outputs": [],
   "source": [
    "datos_finale = datos.drop(['Date'], axis=1)"
   ]
  }
 ],
 "metadata": {
  "kernelspec": {
   "display_name": "Python 3",
   "language": "python",
   "name": "python3"
  },
  "language_info": {
   "codemirror_mode": {
    "name": "ipython",
    "version": 3
   },
   "file_extension": ".py",
   "mimetype": "text/x-python",
   "name": "python",
   "nbconvert_exporter": "python",
   "pygments_lexer": "ipython3",
   "version": "3.10.4"
  },
  "orig_nbformat": 4
 },
 "nbformat": 4,
 "nbformat_minor": 2
}
