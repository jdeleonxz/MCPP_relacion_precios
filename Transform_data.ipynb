{
 "cells": [
  {
   "attachments": {},
   "cell_type": "markdown",
   "metadata": {},
   "source": [
    "### Transformación de la base de datos para poderla trabajar\n"
   ]
  },
  {
   "cell_type": "code",
   "execution_count": 15,
   "metadata": {},
   "outputs": [],
   "source": [
    "import pandas\n",
    "import numpy\n",
    "import locale\n",
    "from dateutil.parser import parse\n",
    "import dtale"
   ]
  },
  {
   "cell_type": "code",
   "execution_count": 16,
   "metadata": {},
   "outputs": [
    {
     "name": "stderr",
     "output_type": "stream",
     "text": [
      "C:\\Users\\Jorge De León\\AppData\\Local\\Temp\\ipykernel_7176\\2568158253.py:13: FutureWarning:\n",
      "\n",
      "The default value of regex will change from True to False in a future version.\n",
      "\n"
     ]
    }
   ],
   "source": [
    "# Cargamos el csv con los datos finales\n",
    "datos = pandas.read_csv(\"Final_data.csv\")\n",
    "\n",
    "datos['Date'] = datos['Date'].apply(lambda x: x.replace('abri', 'abril'))\n",
    "datos['Date'] = datos['Date'].apply(lambda x: x.replace('gosto', 'agosto'))\n",
    "datos['Date'] = datos['Date'].apply(lambda x: x.replace('dciembre', 'diciembre'))\n",
    "datos['Date'] = datos['Date'].apply(lambda x: x.replace('dicienbre', 'diciembre'))\n",
    "datos['Date'] = datos['Date'].apply(lambda x: x.replace('abrill', 'abril'))\n",
    "datos['Date'] = datos['Date'].apply(lambda x: x.replace('aagosto', 'agosto'))\n",
    "datos['Date'] = datos['Date'].apply(lambda x: x.replace('Aagosto', 'agosto'))\n",
    "\n",
    "# eliminar el día de la semana de las cadenas de fecha\n",
    "datos['Date_2'] = datos['Date'].str.replace(r'^\\w+\\s+', '')\n",
    "\n",
    "# convertir la columna de fecha en datetime\n",
    "datos['Date_2'] = pandas.to_datetime(datos['Date_2'], format='%d de %B de %Y', errors='coerce')\n",
    "\n",
    "\n",
    "fechas = datos['Date'].unique()\n",
    "\n"
   ]
  },
  {
   "cell_type": "code",
   "execution_count": 17,
   "metadata": {},
   "outputs": [
    {
     "name": "stderr",
     "output_type": "stream",
     "text": [
      "C:\\Users\\Jorge De León\\AppData\\Local\\Temp\\ipykernel_7176\\1537350283.py:6: FutureWarning:\n",
      "\n",
      "The default value of regex will change from True to False in a future version.\n",
      "\n"
     ]
    }
   ],
   "source": [
    "locale.setlocale(locale.LC_TIME, 'es_CO.UTF-8')\n",
    "\n",
    "#datos['Date-2'] = pandas.to_datetime(datos['Date'], format='%A %d de %B de %Y', errors='coerce')\n",
    "\n",
    "fechas = pandas.DataFrame(fechas)\n",
    "fechas['date'] = fechas[0].str.replace(r'^\\w+\\s+', '')\n",
    "\n",
    "# convertir la columna de fecha en datetime\n",
    "fechas['date'] = pandas.to_datetime(fechas['date'], format='%d de %B de %Y', errors='coerce')\n",
    "\n",
    "fechas_malas_2 = fechas.loc[fechas['date'].isna()]\n"
   ]
  },
  {
   "cell_type": "code",
   "execution_count": 18,
   "metadata": {},
   "outputs": [],
   "source": [
    "datos_finale = datos.drop(['Date'], axis=1)"
   ]
  },
  {
   "cell_type": "code",
   "execution_count": 19,
   "metadata": {},
   "outputs": [],
   "source": [
    "\n",
    "start_date = datos_finale['Date_2'].min()\n",
    "end_date = datos_finale['Date_2'].max()\n",
    "date_range = pandas.date_range(start_date, end_date, freq='D')\n",
    "\n",
    "categories = datos_finale['Precio $/Kg'].unique()\n",
    "categories_df = pandas.DataFrame({'Precio $/Kg': categories})\n",
    "\n",
    "categories_df['key'] = 1\n",
    "date_range_df = pandas.DataFrame({'key': 1, 'Date_2': date_range})\n",
    "complete_df = categories_df.merge(date_range_df, on='key').drop('key', axis=1)\n",
    "\n",
    "df_complete = complete_df.merge(datos_finale, on=['Precio $/Kg', 'Date_2'], how='left')\n",
    "\n",
    "\n",
    "df_complete = df_complete.sort_values(['Precio $/Kg', 'Date_2'])\n",
    "\n",
    "\n",
    "df_complete = df_complete.reset_index(drop=True)\n",
    "\n",
    "columns_to_fill = datos_finale.columns.difference(['Precio $/Kg', 'Date_2'])\n",
    "df_complete[columns_to_fill] = df_complete.groupby('Precio $/Kg')[columns_to_fill].fillna(value=pandas.NA)"
   ]
  },
  {
   "cell_type": "code",
   "execution_count": 20,
   "metadata": {},
   "outputs": [],
   "source": [
    "FINAL = df_complete\n",
    "FINAL = FINAL.drop(['Unnamed: 0'], axis = 1)\n",
    "mask = FINAL.duplicated(keep='first')\n",
    "FINAL = FINAL[~mask]\n",
    "\n",
    "#FINAL = FINAL.applymap(lambda x: pandas.to_numeric(x, errors='coerce'))\n",
    "excepto = ['Precio $/Kg', 'Date_2']\n",
    "\n",
    "FINAL[FINAL.columns.difference(excepto)] = FINAL[FINAL.columns.difference(excepto)].apply(lambda x: pandas.to_numeric(x, errors='coerce'))\n",
    "\n",
    "FINAL.to_csv(\"Final_database_2.csv\")"
   ]
  },
  {
   "cell_type": "code",
   "execution_count": 21,
   "metadata": {},
   "outputs": [
    {
     "name": "stdout",
     "output_type": "stream",
     "text": [
      "                                0\n",
      "Precio $/Kg                     0\n",
      "Date_2                          0\n",
      "Barranquilla                85060\n",
      "Bogotá                      59216\n",
      "Cartagena, Bazurto          90483\n",
      "Medellín                    57526\n",
      "Monteria                    87805\n",
      "Pereira                     73422\n",
      "Popayán                     93282\n",
      "Santa Marta                 92814\n",
      "Sincelejo                   89504\n",
      "Valledupar                  89375\n",
      "Villavicencio, CAV          82362\n",
      "Armenia, Mercar             81194\n",
      "Cali                        84361\n",
      "Manizales                   90826\n",
      "Pasto                       95762\n",
      "Bucaramanga, Centroabastos  79760\n",
      "Cúcuta, Cenabastos          80383\n",
      "Ibagué                      91310\n",
      "Neiva, Surabastos           85664\n",
      "Tunja                       80713\n"
     ]
    }
   ],
   "source": [
    "na_cuenta = FINAL.isna().sum()\n",
    "na_cuenta = pandas.DataFrame(na_cuenta)\n",
    "na_cuenta.to_excel(\"revision_2.xlsx\")\n",
    "print(na_cuenta)"
   ]
  },
  {
   "cell_type": "code",
   "execution_count": 22,
   "metadata": {},
   "outputs": [],
   "source": [
    "revision = pandas.read_excel(\"revision.xlsx\")\n",
    "\n",
    "Cali_revision = revision.loc[[14,18,28,41], 'Unnamed: 0']\n",
    "ibague_revision = revision.loc[[20,29,31,36,37,38,46], 'Unnamed: 0']\n",
    "Medellin_revision = revision.loc[[5,42,49], 'Unnamed: 0']\n",
    "Pasto_revision = revision.loc[[39,25,16,33,32], 'Unnamed: 0']\n",
    "Pereira_revision = revision.loc[[7,47, 26, 43], 'Unnamed: 0']\n",
    "Bogota_revision = revision.loc[[3,48], 'Unnamed: 0']\n",
    "Manizales_revision = revision.loc[[15,40,24,30], 'Unnamed: 0']\n",
    "Monteria_revision = revision.loc[[6,44,34], 'Unnamed: 0']\n",
    "Popayán_revision = revision.loc[[8,45,35], 'Unnamed: 0']\n",
    "Santa_revision = revision.loc[[9,50], 'Unnamed: 0']\n",
    "Sincelejo_revision = revision.loc[[10,51], 'Unnamed: 0']\n",
    "Tunja_revision = revision.loc[[23,27], 'Unnamed: 0']"
   ]
  },
  {
   "cell_type": "code",
   "execution_count": 23,
   "metadata": {},
   "outputs": [],
   "source": [
    "columnas = na_cuenta.iloc[2:,0]\n",
    "columnas_2 = columnas.index.to_list()\n",
    "\n",
    "dataframes_filtered = {}\n",
    "\n",
    "# Filter the DataFrame for each column\n",
    "for column in columnas_2:\n",
    "    df_filtered = FINAL[['Precio $/Kg', 'Date_2', column]]\n",
    "    dataframes_filtered[column] = df_filtered"
   ]
  }
 ],
 "metadata": {
  "kernelspec": {
   "display_name": "Python 3",
   "language": "python",
   "name": "python3"
  },
  "language_info": {
   "codemirror_mode": {
    "name": "ipython",
    "version": 3
   },
   "file_extension": ".py",
   "mimetype": "text/x-python",
   "name": "python",
   "nbconvert_exporter": "python",
   "pygments_lexer": "ipython3",
   "version": "3.10.4"
  },
  "orig_nbformat": 4
 },
 "nbformat": 4,
 "nbformat_minor": 2
}
